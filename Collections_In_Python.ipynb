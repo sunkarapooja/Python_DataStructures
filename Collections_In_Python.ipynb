{
 "cells": [
  {
   "cell_type": "markdown",
   "metadata": {},
   "source": [
    "#### Collections\n",
    "Collections in Python are containers that are used to store collections of data, for example, list, dict, set, tuple etc. These are built-in collections. Several modules have been developed that provide additional data structures to store collections of data. One such module is the Python collections module.\n",
    "<br><br>\n",
    "Python collections module was introduced to improve the functionalities of the built-in collection containers."
   ]
  },
  {
   "cell_type": "raw",
   "metadata": {},
   "source": [
    "Collections in python are basically container data types, namely lists, sets, tuples, dictionary. They have different characteristics based on the declaration and the usage.\n",
    "\n",
    "A list is declared in square brackets, it is mutable, stores duplicate values and elements can be accessed using indexes.\n",
    "\n",
    "A tuple is ordered and immutable in nature, although duplicate entries can be there inside a tuple.\n",
    "\n",
    "A set is unordered and declared in square brackets. It is not indexed and does not have duplicate entries as well.\n",
    "\n",
    "A dictionary has key value pairs and is mutable in nature. We use square brackets to declare a dictionary.\n",
    "\n",
    "These are the python’s general purpose built-in container data types. But as we all know, python always has a little something extra to offer. It comes with a python module named collections which has specialized data structures."
   ]
  },
  {
   "cell_type": "raw",
   "metadata": {},
   "source": [
    "Specialized Collection Data Structures\n",
    "Collections module in python implements specialized data structures which provide alternative to python’s built-in container data types. Following are the specialized data structures in collections module.\n",
    "\n",
    "namedtuple( )\n",
    "deque\n",
    "Chainmap\n",
    "Counter\n",
    "OrderedDict\n",
    "defaultdict\n",
    "UserDict\n",
    "UserList\n",
    "UserString"
   ]
  },
  {
   "cell_type": "markdown",
   "metadata": {},
   "source": [
    "#### namedtuple( )\n",
    "It returns a tuple with a named entry, which means there will be a name assigned to each value in the tuple. It overcomes the problem of accessing the elements using the index values. With namedtuple( ) it becomes easier to access these values, since you do not have to remember the index values to get specific elements.<br>"
   ]
  },
  {
   "cell_type": "code",
   "execution_count": 4,
   "metadata": {},
   "outputs": [
    {
     "name": "stdout",
     "output_type": "stream",
     "text": [
      "courses(name='data science', tech='python')\n"
     ]
    }
   ],
   "source": [
    "from collections import namedtuple\n",
    "a = namedtuple('courses' , 'name , tech')\n",
    "s = a('data science' , 'python')\n",
    "print(s)"
   ]
  },
  {
   "cell_type": "code",
   "execution_count": 6,
   "metadata": {},
   "outputs": [
    {
     "name": "stdout",
     "output_type": "stream",
     "text": [
      "courses(name='data science', tech='python')\n"
     ]
    }
   ],
   "source": [
    "s._make(['data science' , 'python'])\n",
    "print(s)"
   ]
  },
  {
   "cell_type": "markdown",
   "metadata": {},
   "source": [
    "#### deque\n",
    "deque pronounced as ‘deck’ is an optimized list to perform insertion and deletion easily."
   ]
  },
  {
   "cell_type": "code",
   "execution_count": 1,
   "metadata": {},
   "outputs": [
    {
     "name": "stdout",
     "output_type": "stream",
     "text": [
      "deque(['d', 'u', 'r', 'e', 'k'])\n"
     ]
    }
   ],
   "source": [
    "#creating a deque\n",
    "from collections import deque\n",
    " \n",
    "a = ['d' , 'u' , 'r' , 'e' , 'k']\n",
    "a1 = deque(a)\n",
    "print(a1)\n",
    "#the output will be deque([ 'd' , 'u' , 'r' , 'e' , 'k' ])"
   ]
  },
  {
   "cell_type": "code",
   "execution_count": 2,
   "metadata": {},
   "outputs": [
    {
     "name": "stdout",
     "output_type": "stream",
     "text": [
      "deque(['d', 'u', 'r', 'e'])\n",
      "deque(['u', 'r', 'e'])\n"
     ]
    }
   ],
   "source": [
    "a1.pop()\n",
    "print(a1)\n",
    "#the output will be deque([ 'e' , 'd' , 'u' , 'r' , 'e' , 'k' ])\n",
    "a1.popleft()\n",
    "print(a1)\n",
    "#the output will be deque([ 'd' , 'u' , 'r' , 'e' , 'k' ])"
   ]
  },
  {
   "cell_type": "markdown",
   "metadata": {},
   "source": [
    "#### ChainMap\n",
    "It is a dictionary like class which is able to make a single view of multiple mappings. It basically returns a list of several other dictionaries. Suppose you have two dictionaries with several key value pairs, in this case ChainMap will make a single list with both the dictionaries in it."
   ]
  },
  {
   "cell_type": "code",
   "execution_count": 3,
   "metadata": {},
   "outputs": [
    {
     "name": "stdout",
     "output_type": "stream",
     "text": [
      "ChainMap({1: 'edureka', 2: 'python'}, {3: 'data science', 4: 'Machine learning'})\n"
     ]
    }
   ],
   "source": [
    "from collections import ChainMap\n",
    "a = { 1: 'edureka' , 2: 'python'}\n",
    "b = {3: 'data science' , 4: 'Machine learning'}\n",
    "c = ChainMap(a,b)\n",
    "print(c)"
   ]
  },
  {
   "cell_type": "code",
   "execution_count": 4,
   "metadata": {},
   "outputs": [
    {
     "name": "stdout",
     "output_type": "stream",
     "text": [
      "ChainMap({5: 'AI', 6: 'neural networks'}, {1: 'edureka', 2: 'python'}, {3: 'data science', 4: 'Machine learning'})\n"
     ]
    }
   ],
   "source": [
    "###  insert elements we use the keys as index\n",
    "a1 = { 5: 'AI' , 6: 'neural networks'}\n",
    "c1 = c.new_child(a1)\n",
    "print(c1)"
   ]
  },
  {
   "cell_type": "markdown",
   "metadata": {},
   "source": [
    "#### Counter\n",
    "It is a dictionary subclass which is used to count hashable objects."
   ]
  },
  {
   "cell_type": "code",
   "execution_count": 5,
   "metadata": {},
   "outputs": [
    {
     "name": "stdout",
     "output_type": "stream",
     "text": [
      "Counter({1: 4, 3: 4, 4: 2, 2: 1})\n"
     ]
    }
   ],
   "source": [
    "from collections import Counter\n",
    "a = [1,1,1,1,2,3,3,4,3,3,4]\n",
    "c = Counter(a)\n",
    "print(c)\n",
    "#the output will be Counter = ({1:4 , 2:1 , 3:4 , 4:2})"
   ]
  },
  {
   "cell_type": "raw",
   "metadata": {},
   "source": [
    "element function – It returns a list containing all the elements in the Counter.\n",
    "Most_common( ) – It returns a sorted list with the count of each element in the Counter.\n",
    "Subtract( ) – It takes an iterable object as an argument and deducts the count of the elements in the Counter."
   ]
  },
  {
   "cell_type": "markdown",
   "metadata": {},
   "source": [
    "#### OrderedDict\n",
    "It is a dictionary subclass which remembers the order in which the entries were added. Basically, even if you change the value of the key, the position will not be changed because of the order in which it was inserted in the dictionary."
   ]
  },
  {
   "cell_type": "code",
   "execution_count": 6,
   "metadata": {},
   "outputs": [
    {
     "name": "stdout",
     "output_type": "stream",
     "text": [
      "OrderedDict([(1, 'e'), (2, 'd'), (3, 'u'), (4, 'r'), (5, 'e'), (6, 'k'), (7, 'a')])\n"
     ]
    }
   ],
   "source": [
    "from collections import OrderedDict\n",
    "od = OrderedDict()\n",
    "od[1] = 'e'\n",
    "od[2] = 'd'\n",
    "od[3] = 'u'\n",
    "od[4] = 'r'\n",
    "od[5] = 'e'\n",
    "od[6] = 'k'\n",
    "od[7] = 'a'\n",
    "print(od)"
   ]
  },
  {
   "cell_type": "markdown",
   "metadata": {},
   "source": [
    "#### defaultdict\n",
    "It is a dictionary subclass which calls a factory function to supply missing values. In general, it does not throw any errors when a missing key value is called in a dictionary."
   ]
  },
  {
   "cell_type": "code",
   "execution_count": 8,
   "metadata": {},
   "outputs": [
    {
     "name": "stdout",
     "output_type": "stream",
     "text": [
      "python\n"
     ]
    }
   ],
   "source": [
    "from collections import defaultdict\n",
    "d = defaultdict(int)\n",
    "#we have to specify a type as well.\n",
    "d[1] = 'edureka'\n",
    "d[2] = 'python'\n",
    "print(d[2])\n",
    "#it will give the output as 0 instead of keyerror."
   ]
  },
  {
   "cell_type": "markdown",
   "metadata": {},
   "source": [
    "#### UserDict\n",
    "This class acts as a wrapper around dictionary objects. The need for this class came from the necessity to subclass directly from dict. It becomes easier to work with this class as the underlying dictionary becomes an attribute.<br>\n",
    "\n",
    "- class collections.UserDict([initialdata])"
   ]
  },
  {
   "cell_type": "markdown",
   "metadata": {},
   "source": [
    "This class simulates a dictionary. The content of the instance are kept in a regular dictionary which can be accessed with the ‘data’ attribute of the class UserDict. The reference of initial data is not kept, for it to be used for other purposes."
   ]
  },
  {
   "cell_type": "markdown",
   "metadata": {},
   "source": [
    "#### UserList\n",
    "This class acts like a wrapper around the list objects. It is a useful base class for other list like classes which can inherit from them and override the existing methods or even add a fewer new ones as well.<br>\n",
    "\n",
    "The need for this class came from the necessity to subclass directly from list. It becomes easier to work with this class as the underlying list becomes an attribute.<br>\n",
    "\n",
    "class collections.UserList([list])<br>\n",
    "\n",
    "It is the class that simulates a list. The contents of the instance are kept in a customary list. The sub-classes of the list are relied upon to offer a constructor which can be called with either no or one contention.\n",
    "\n"
   ]
  },
  {
   "cell_type": "code",
   "execution_count": null,
   "metadata": {},
   "outputs": [],
   "source": []
  }
 ],
 "metadata": {
  "kernelspec": {
   "display_name": "Python 3",
   "language": "python",
   "name": "python3"
  },
  "language_info": {
   "codemirror_mode": {
    "name": "ipython",
    "version": 3
   },
   "file_extension": ".py",
   "mimetype": "text/x-python",
   "name": "python",
   "nbconvert_exporter": "python",
   "pygments_lexer": "ipython3",
   "version": "3.8.5"
  }
 },
 "nbformat": 4,
 "nbformat_minor": 4
}
