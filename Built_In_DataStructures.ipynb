{
 "cells": [
  {
   "cell_type": "markdown",
   "metadata": {},
   "source": [
    "#### Data Structure:\n",
    "Organzing,Managing and Storing data is important as it enables easier access and efficient modifications. Data structure allows you to organize your data, in such a way that enables you to store collections of data, relate them and perform operations on them accordingly."
   ]
  },
  {
   "cell_type": "markdown",
   "metadata": {},
   "source": [
    "Python allows its users to create their own data structures enabling them to have full control over their functionality."
   ]
  },
  {
   "cell_type": "markdown",
   "metadata": {},
   "source": [
    "- Built in datastructure:<br>\n",
    "List,Tuple,Dictionary,Set<br>\n",
    "- User Define datastructures<br>\n",
    "Stack,Tree,Queue,Graph,LinkedList,HashMap<br>"
   ]
  },
  {
   "cell_type": "markdown",
   "metadata": {},
   "source": [
    "### List\n",
    "List are used store data of different datatypes in sequential manner. There are  addresses assign to every element of the list, which is called Index.The index value start from zero untill the last element called the positive index. There is also negative index start from -1 to enabling you to access element from the last to first."
   ]
  },
  {
   "cell_type": "code",
   "execution_count": 1,
   "metadata": {},
   "outputs": [
    {
     "name": "stdout",
     "output_type": "stream",
     "text": [
      "[1, 2, 'data', 1.1]\n"
     ]
    }
   ],
   "source": [
    "#List\n",
    "my_list = []\n",
    "my_list = [1,2,\"data\",1.1]\n",
    "print(my_list)"
   ]
  },
  {
   "cell_type": "markdown",
   "metadata": {},
   "source": [
    "#### Adding Elements\n",
    "- append():adds all the elements passed to it as a single element.\n",
    "- insert():adds the elements one-by-one into the list.\n",
    "- extend():adds the element passed to the index value and increase the size of the list too."
   ]
  },
  {
   "cell_type": "code",
   "execution_count": 9,
   "metadata": {},
   "outputs": [
    {
     "name": "stdout",
     "output_type": "stream",
     "text": [
      "[1, 2, 3, [12, 15]]\n",
      "[1, 2, 3, [12, 15], 1, 20]\n",
      "[1, 'no more samples', 2, 3, [12, 15], 1, 20]\n"
     ]
    }
   ],
   "source": [
    "my_list = [1,2,3]\n",
    "my_list.append([12,15])\n",
    "print(my_list)\n",
    "my_list.extend([1,20])\n",
    "print(my_list)\n",
    "my_list.insert(1,\"no more samples\")\n",
    "print(my_list)"
   ]
  },
  {
   "cell_type": "markdown",
   "metadata": {},
   "source": [
    "#### Deleting Elements\n",
    "- del keyword which is built-in into Python but this does not return anything back to us.\n",
    "- pop() If you want the element back, you use the pop() function which takes the index value.\n",
    "- remove() To remove an element by its value, you use the remove() function."
   ]
  },
  {
   "cell_type": "code",
   "execution_count": 15,
   "metadata": {},
   "outputs": [
    {
     "name": "stdout",
     "output_type": "stream",
     "text": [
      "[1, 3, 'example', 3.132, 10, 30]\n",
      "[1, 3, 3.132, 10, 30]\n",
      "[1, 3, 3.132, 10]\n"
     ]
    }
   ],
   "source": [
    "my_list = [1, 2, 3, 'example', 3.132, 10, 30]\n",
    "del my_list[1]\n",
    "print(my_list)\n",
    "my_list.remove('example') # remove element in the value\n",
    "print(my_list)\n",
    "my_list.pop(4)\n",
    "print(my_list)"
   ]
  },
  {
   "cell_type": "markdown",
   "metadata": {},
   "source": [
    "#### Accessing Elements\n",
    "Accessing elements is the same as accessing Strings in Python. You pass the index values and hence can obtain the values as needed."
   ]
  },
  {
   "cell_type": "code",
   "execution_count": 16,
   "metadata": {},
   "outputs": [
    {
     "name": "stdout",
     "output_type": "stream",
     "text": [
      "1\n",
      "2\n",
      "3\n",
      "example\n",
      "3.132\n",
      "10\n",
      "30\n",
      "[1, 2, 3, 'example', 3.132, 10, 30]\n",
      "example\n",
      "[1, 2]\n",
      "[30, 10, 3.132, 'example', 3, 2, 1]\n"
     ]
    }
   ],
   "source": [
    "my_list = [1, 2, 3, 'example', 3.132, 10, 30]\n",
    "for element in my_list: #access elements one by one\n",
    "    print(element)\n",
    "print(my_list) #access all elements\n",
    "print(my_list[3]) #access index 3 element\n",
    "print(my_list[0:2]) #access elements from 0 to 1 and exclude 2\n",
    "print(my_list[::-1]) #access elements in reverse"
   ]
  },
  {
   "cell_type": "markdown",
   "metadata": {},
   "source": [
    "#### Other Functions\n",
    "You have several other functions that can be used when working with lists.\n",
    "\n",
    "- The len() function returns to us the length of the list.\n",
    "- The index() function finds the index value of value passed where it has been encountered the first time.\n",
    "- The count() function finds the count of the value passed to it.\n",
    "- The sorted() and sort() functions do the same thing, that is to sort the values of the list. The sorted() has a return type whereas the sort() modifies the original list."
   ]
  },
  {
   "cell_type": "code",
   "execution_count": 17,
   "metadata": {},
   "outputs": [
    {
     "name": "stdout",
     "output_type": "stream",
     "text": [
      "6\n",
      "3\n",
      "2\n",
      "[1, 2, 3, 10, 10, 30]\n",
      "[30, 10, 10, 3, 2, 1]\n"
     ]
    }
   ],
   "source": [
    "my_list = [1, 2, 3, 10, 30, 10]\n",
    "print(len(my_list)) #find length of list\n",
    "print(my_list.index(10)) #find index of element that occurs first\n",
    "print(my_list.count(10)) #find count of the element\n",
    "print(sorted(my_list)) #print sorted list but not change original\n",
    "my_list.sort(reverse=True) #sort original list\n",
    "print(my_list)"
   ]
  },
  {
   "cell_type": "markdown",
   "metadata": {},
   "source": [
    "#### Dictionary\n",
    "Dictionaries are used to store key-value pairs. To understand better, think of a phone directory where hundreds and thousands of names and their corresponding numbers have been added. Now the constant values here are Name and the Phone Numbers which are called as the keys. And the various names and phone numbers are the values that have been fed to the keys. If you access the values of the keys, you will obtain all the names and phone numbers. So that is what a key-value pair is. And in Python, this structure is stored using Dictionaries. Let us understand this better with an example program."
   ]
  },
  {
   "cell_type": "code",
   "execution_count": 19,
   "metadata": {},
   "outputs": [
    {
     "name": "stdout",
     "output_type": "stream",
     "text": [
      "{1: 'Python', 2: 'Java'}\n"
     ]
    }
   ],
   "source": [
    "my_dict = {1: 'Python', 2: 'Java'} #dictionary with elements\n",
    "print(my_dict)"
   ]
  },
  {
   "cell_type": "code",
   "execution_count": 20,
   "metadata": {},
   "outputs": [
    {
     "name": "stdout",
     "output_type": "stream",
     "text": [
      "{'First': 'Python', 'Second': 'Java'}\n",
      "{'First': 'Python', 'Second': 'C++'}\n",
      "{'First': 'Python', 'Second': 'C++', 'Third': 'Ruby'}\n"
     ]
    }
   ],
   "source": [
    "### Changing and Adding key, value pairs\n",
    "my_dict = {'First': 'Python', 'Second': 'Java'}\n",
    "print(my_dict)\n",
    "my_dict['Second'] = 'C++' #changing element\n",
    "print(my_dict)\n",
    "my_dict['Third'] = 'Ruby' #adding key-value pair\n",
    "print(my_dict)"
   ]
  },
  {
   "cell_type": "markdown",
   "metadata": {},
   "source": [
    "#### Deleting key, value pairs\n",
    "- To delete the values, you use the pop() function which returns the value that has been deleted.\n",
    "- To retrieve the key-value pair, you use the popitem() function which returns a tuple of the key and value.\n",
    "- To clear the entire dictionary, you use the clear() function."
   ]
  },
  {
   "cell_type": "code",
   "execution_count": 21,
   "metadata": {},
   "outputs": [
    {
     "name": "stdout",
     "output_type": "stream",
     "text": [
      "Value: Ruby\n",
      "Dictionary: {'First': 'Python', 'Second': 'Java'}\n",
      "Key, value pair: ('Second', 'Java')\n",
      "Dictionary {'First': 'Python'}\n",
      "n {}\n"
     ]
    }
   ],
   "source": [
    "my_dict = {'First': 'Python', 'Second': 'Java', 'Third': 'Ruby'}\n",
    "a = my_dict.pop('Third') #pop element\n",
    "print('Value:', a)\n",
    "print('Dictionary:', my_dict)\n",
    "b = my_dict.popitem() #pop the key-value pair\n",
    "print('Key, value pair:', b)\n",
    "print('Dictionary', my_dict)\n",
    "my_dict.clear() #empty dictionary\n",
    "print('n', my_dict)"
   ]
  },
  {
   "cell_type": "code",
   "execution_count": 22,
   "metadata": {},
   "outputs": [
    {
     "name": "stdout",
     "output_type": "stream",
     "text": [
      "Python\n",
      "Java\n"
     ]
    }
   ],
   "source": [
    "### Accessing Elements\n",
    "my_dict = {'First': 'Python', 'Second': 'Java'}\n",
    "print(my_dict['First']) #access elements using keys\n",
    "print(my_dict.get('Second'))"
   ]
  },
  {
   "cell_type": "markdown",
   "metadata": {},
   "source": [
    "functions which return to us the keys or the values of the key-value pair accordingly to the keys(), values(), items() functions accordingly."
   ]
  },
  {
   "cell_type": "code",
   "execution_count": 23,
   "metadata": {},
   "outputs": [
    {
     "name": "stdout",
     "output_type": "stream",
     "text": [
      "dict_keys(['First', 'Second', 'Third'])\n",
      "dict_values(['Python', 'Java', 'Ruby'])\n",
      "dict_items([('First', 'Python'), ('Second', 'Java'), ('Third', 'Ruby')])\n",
      "Python\n"
     ]
    }
   ],
   "source": [
    "my_dict = {'First': 'Python', 'Second': 'Java', 'Third': 'Ruby'}\n",
    "print(my_dict.keys()) #get keys\n",
    "print(my_dict.values()) #get values\n",
    "print(my_dict.items()) #get key-value pairs\n",
    "print(my_dict.get('First'))"
   ]
  },
  {
   "cell_type": "markdown",
   "metadata": {},
   "source": [
    "### Tuple\n",
    "Tuples are the same as lists are with the exception that the data once entered into the tuple cannot be changed no matter what. The only exception is when the data inside the tuple is mutable, only then the tuple data can be changed. "
   ]
  },
  {
   "cell_type": "code",
   "execution_count": 2,
   "metadata": {},
   "outputs": [
    {
     "name": "stdout",
     "output_type": "stream",
     "text": [
      "(1, 2, 3)\n"
     ]
    }
   ],
   "source": [
    "my_tuple = (1,2,3)\n",
    "print(my_tuple)"
   ]
  },
  {
   "cell_type": "code",
   "execution_count": 3,
   "metadata": {},
   "outputs": [
    {
     "name": "stdout",
     "output_type": "stream",
     "text": [
      "1\n",
      "2\n",
      "3\n",
      "edureka\n",
      "(1, 2, 3, 'edureka')\n",
      "1\n",
      "(1, 2, 3, 'edureka')\n",
      "e\n"
     ]
    }
   ],
   "source": [
    "my_tuple2 = (1, 2, 3, 'edureka') #access elements\n",
    "for x in my_tuple2:\n",
    "    print(x)\n",
    "print(my_tuple2)\n",
    "print(my_tuple2[0])\n",
    "print(my_tuple2[:])\n",
    "print(my_tuple2[3][4])"
   ]
  },
  {
   "cell_type": "code",
   "execution_count": 4,
   "metadata": {},
   "outputs": [
    {
     "name": "stdout",
     "output_type": "stream",
     "text": [
      "(1, 2, 3, 4, 5, 6)\n"
     ]
    }
   ],
   "source": [
    "my_tuple = (1, 2, 3)\n",
    "my_tuple = my_tuple + (4, 5, 6) #add elements\n",
    "print(my_tuple)"
   ]
  },
  {
   "cell_type": "code",
   "execution_count": 5,
   "metadata": {},
   "outputs": [
    {
     "name": "stdout",
     "output_type": "stream",
     "text": [
      "(1, 2, 3, ['english', 'python'])\n",
      "1\n"
     ]
    }
   ],
   "source": [
    "my_tuple = (1, 2, 3, ['hindi', 'python'])\n",
    "my_tuple[3][0] = 'english'\n",
    "print(my_tuple)\n",
    "print(my_tuple.count(2))"
   ]
  },
  {
   "cell_type": "markdown",
   "metadata": {},
   "source": [
    "#### Sets\n",
    "Sets are a collection of unordered elements that are unique. Meaning that even if the data is repeated more than one time, it would be entered into the set only once. It resembles the sets that you have learnt in arithmetic. The operations also are the same as is with the arithmetic sets. An example program would help you understand better."
   ]
  },
  {
   "cell_type": "code",
   "execution_count": 6,
   "metadata": {},
   "outputs": [
    {
     "name": "stdout",
     "output_type": "stream",
     "text": [
      "{1, 2, 3, 4, 5}\n"
     ]
    }
   ],
   "source": [
    "my_set = {1, 2, 3, 4, 5, 5, 5} #create set\n",
    "print(my_set)"
   ]
  },
  {
   "cell_type": "code",
   "execution_count": 8,
   "metadata": {},
   "outputs": [
    {
     "name": "stdout",
     "output_type": "stream",
     "text": [
      "{1, 2, 3, 4}\n"
     ]
    }
   ],
   "source": [
    "my_set = {1, 2, 3}\n",
    "my_set.add(4) #add element to set\n",
    "print(my_set)"
   ]
  },
  {
   "cell_type": "code",
   "execution_count": 9,
   "metadata": {},
   "outputs": [
    {
     "name": "stdout",
     "output_type": "stream",
     "text": [
      "{1, 2, 3, 4, 5, 6} ---------- {1, 2, 3, 4, 5, 6}\n",
      "{3, 4} ---------- {3, 4}\n",
      "{1, 2} ---------- {1, 2}\n",
      "{1, 2, 5, 6} ---------- {1, 2, 5, 6}\n",
      "set()\n"
     ]
    }
   ],
   "source": [
    "my_set = {1, 2, 3, 4}\n",
    "my_set_2 = {3, 4, 5, 6}\n",
    "print(my_set.union(my_set_2), '----------', my_set | my_set_2)\n",
    "print(my_set.intersection(my_set_2), '----------', my_set & my_set_2)\n",
    "print(my_set.difference(my_set_2), '----------', my_set - my_set_2)\n",
    "print(my_set.symmetric_difference(my_set_2), '----------', my_set ^ my_set_2)\n",
    "my_set.clear()\n",
    "print(my_set)"
   ]
  }
 ],
 "metadata": {
  "kernelspec": {
   "display_name": "Python 3",
   "language": "python",
   "name": "python3"
  },
  "language_info": {
   "codemirror_mode": {
    "name": "ipython",
    "version": 3
   },
   "file_extension": ".py",
   "mimetype": "text/x-python",
   "name": "python",
   "nbconvert_exporter": "python",
   "pygments_lexer": "ipython3",
   "version": "3.8.5"
  }
 },
 "nbformat": 4,
 "nbformat_minor": 4
}
